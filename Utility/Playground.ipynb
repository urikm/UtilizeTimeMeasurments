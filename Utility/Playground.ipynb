{
 "cells": [
  {
   "cell_type": "code",
   "execution_count": 9,
   "metadata": {
    "collapsed": true
   },
   "outputs": [],
   "source": [
    "import os\n",
    "import pickle\n",
    "import matplotlib.pyplot as plt\n",
    "import numpy as np\n",
    "import scipy as sp\n",
    "import pandas as pd\n",
    "from PhysicalModels.MasterEqSim import MasterEqSolver as MESolver\n",
    "from PhysicalModels.PartialTrajectories import CalcW4DrivingForce\n",
    "from PhysicalModels.UtilityTraj import CalcSteadyStateCurrent\n",
    "from Utility.Params import BaseSystem"
   ]
  },
  {
   "cell_type": "code",
   "execution_count": 10,
   "outputs": [],
   "source": [
    "mW, nDim, vHiddenStates, timeRes = BaseSystem()"
   ],
   "metadata": {
    "collapsed": false,
    "pycharm": {
     "name": "#%%\n"
    }
   }
  },
  {
   "cell_type": "code",
   "execution_count": 11,
   "outputs": [
    {
     "name": "stdout",
     "output_type": "stream",
     "text": [
      "[0.09160796 0.29405405 0.19475855 0.41957944]\n",
      "[0.02155376 0.32831812 0.32076312 0.329365  ]\n",
      "0.021389329942558027\n",
      "(0.3132842232681723, 0.5881081016276389, 0.27482387835946664)\n",
      "(-14.31318544594146, 0.3895170947495124, 14.702702540690973)\n"
     ]
    }
   ],
   "source": [
    "x = 0#1.870019932217819#-2 #0.6700199322178189\n",
    "\n",
    "mWx = CalcW4DrivingForce(mW, x)\n",
    "mWxx = mWx - np.diag(np.diagonal(mWx))\n",
    "vP0 = np.random.uniform(size=(nDim))\n",
    "vP0 = vP0 / sum(vP0)\n",
    "n, vPiX, mWx, vWPn = MESolver(nDim, vP0, mWx, timeRes)\n",
    "vt=-1/np.diagonal(mWx)\n",
    "T = 1/(np.sum(vPiX/vt))\n",
    "vR = vPiX/vt*T\n",
    "print(vPiX)\n",
    "print(vR)\n",
    "print(T)\n",
    "print(CalcSteadyStateCurrent(mWx, vPiX, 0, 1))\n",
    "#print(CalcSteadyStateCurrent(mWx, vPiX, 0, 2))\n",
    "print(CalcSteadyStateCurrent(mWx, vPiX, 1, 2))\n",
    "\n",
    "tmpQR = np.linalg.qr(mWx.T, mode='complete')\n",
    "res  =np.dot(mWx.T, tmpQR[0])\n",
    "ns = sp.linalg.null_space(mWx)\n",
    "gt = np.dot(mWx, vPiX)"
   ],
   "metadata": {
    "collapsed": false,
    "pycharm": {
     "name": "#%%\n"
    }
   }
  },
  {
   "cell_type": "code",
   "execution_count": 12,
   "outputs": [],
   "source": [
    "mm=mWxx.sum(axis=0)\n",
    "mmm=mWxx/mm"
   ],
   "metadata": {
    "collapsed": false,
    "pycharm": {
     "name": "#%%\n"
    }
   }
  }
 ],
 "metadata": {
  "kernelspec": {
   "name": "pycharm-cb4bf0df",
   "language": "python",
   "display_name": "PyCharm (HW2)"
  },
  "language_info": {
   "codemirror_mode": {
    "name": "ipython",
    "version": 2
   },
   "file_extension": ".py",
   "mimetype": "text/x-python",
   "name": "python",
   "nbconvert_exporter": "python",
   "pygments_lexer": "ipython2",
   "version": "2.7.6"
  }
 },
 "nbformat": 4,
 "nbformat_minor": 0
}