{
 "cells": [
  {
   "cell_type": "code",
   "execution_count": 10,
   "metadata": {
    "collapsed": true
   },
   "outputs": [],
   "source": [
    "import os\n",
    "import pickle\n",
    "import matplotlib.pyplot as plt\n",
    "import numpy as np\n",
    "import pandas as pd\n",
    "from PhysicalModels.MasterEqSim import MasterEqSolver as MESolver\n",
    "from PhysicalModels.PartialTrajectories import CalcW4DrivingForce\n",
    "from PhysicalModels.UtilityTraj import CalcSteadyStateCurrent\n",
    "from Utility.Params import BaseSystem"
   ]
  },
  {
   "cell_type": "code",
   "execution_count": 11,
   "outputs": [],
   "source": [
    "mW, nDim, vHiddenStates, timeRes = BaseSystem()"
   ],
   "metadata": {
    "collapsed": false,
    "pycharm": {
     "name": "#%%\n"
    }
   }
  },
  {
   "cell_type": "code",
   "execution_count": 31,
   "outputs": [
    {
     "name": "stdout",
     "output_type": "stream",
     "text": [
      "[0.36290744 0.18406261 0.12252576 0.33050419]\n",
      "[0.0834076  0.32700374 0.25795157 0.33163709]\n",
      "0.02734135644588249\n",
      "(2.5727553371634357, 2.7200978807369025, 0.14734254357346663)\n",
      "(-8.958078912025744, 0.24505151599522143, 9.203130428020966)\n"
     ]
    }
   ],
   "source": [
    "x = -2 #0.6700199322178189\n",
    "\n",
    "mWx = CalcW4DrivingForce(mW, x)\n",
    "mWxx = mWx - np.diag(np.diagonal(mWx))\n",
    "vP0 = np.random.uniform(size=(nDim))\n",
    "vP0 = vP0 / sum(vP0)\n",
    "n, vPiX, mWx, vWPn = MESolver(nDim, vP0, mWx, timeRes)\n",
    "vt=-1/np.diagonal(mWx)\n",
    "T = 1/(np.sum(vPiX/vt))\n",
    "vR = vPiX/vt*T\n",
    "print(vPiX)\n",
    "print(vR)\n",
    "print(T)\n",
    "print(CalcSteadyStateCurrent(mWx, vPiX, 0, 1))\n",
    "#print(CalcSteadyStateCurrent(mWx, vPiX, 0, 2))\n",
    "print(CalcSteadyStateCurrent(mWx, vPiX, 1, 2))"
   ],
   "metadata": {
    "collapsed": false,
    "pycharm": {
     "name": "#%%\n"
    }
   }
  }
 ],
 "metadata": {
  "kernelspec": {
   "display_name": "Python 3",
   "language": "python",
   "name": "python3"
  },
  "language_info": {
   "codemirror_mode": {
    "name": "ipython",
    "version": 2
   },
   "file_extension": ".py",
   "mimetype": "text/x-python",
   "name": "python",
   "nbconvert_exporter": "python",
   "pygments_lexer": "ipython2",
   "version": "2.7.6"
  }
 },
 "nbformat": 4,
 "nbformat_minor": 0
}